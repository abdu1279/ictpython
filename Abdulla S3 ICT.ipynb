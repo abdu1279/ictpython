{
 "cells": [
  {
   "cell_type": "code",
   "execution_count": 1,
   "id": "a9c06c50",
   "metadata": {},
   "outputs": [],
   "source": [
    "#Question no: 1\n",
    "\n",
    "# Output is ['e', 'd', 'c', 'b', 'a']"
   ]
  },
  {
   "cell_type": "code",
   "execution_count": 4,
   "id": "b8ea6ac2",
   "metadata": {},
   "outputs": [
    {
     "name": "stdout",
     "output_type": "stream",
     "text": [
      "Enter Number: 2\n",
      "Enter Number: 4\n",
      "4 is the greatest\n"
     ]
    }
   ],
   "source": [
    "#Question no: 3\n",
    "\n",
    "num1 = int(input(\"Enter Number: \"))\n",
    "num2 = int(input(\"Enter Number: \"))\n",
    "if num1>num2:\n",
    "    print(num1,\"is the greatest\")\n",
    "else:\n",
    "    print(num2,\"is the greatest\")"
   ]
  },
  {
   "cell_type": "code",
   "execution_count": 5,
   "id": "dd6a4f0f",
   "metadata": {},
   "outputs": [
    {
     "name": "stdout",
     "output_type": "stream",
     "text": [
      "Square Of 5 is 25\n"
     ]
    }
   ],
   "source": [
    "#Question no: 4\n",
    "a=5*5\n",
    "print(\"Square Of 5 is\",a)"
   ]
  },
  {
   "cell_type": "code",
   "execution_count": 6,
   "id": "ea190aa7",
   "metadata": {},
   "outputs": [
    {
     "name": "stdout",
     "output_type": "stream",
     "text": [
      "Current date:  2022-12-11\n",
      "Current year: 2022\n",
      "Current month: 12\n",
      "Current day: 11\n"
     ]
    }
   ],
   "source": [
    "#Question no: 6\n",
    "from datetime import date\n",
    "\n",
    "todays_date = date.today()\n",
    "\n",
    "print(\"Current date: \", todays_date)\n",
    "\n",
    "print(\"Current year:\", todays_date.year)\n",
    "print(\"Current month:\", todays_date.month)\n",
    "print(\"Current day:\", todays_date.day)"
   ]
  },
  {
   "cell_type": "code",
   "execution_count": 7,
   "id": "8efa7d30",
   "metadata": {},
   "outputs": [
    {
     "name": "stdout",
     "output_type": "stream",
     "text": [
      "\n",
      "*\n",
      "**\n",
      "***\n",
      "****\n",
      "*****\n",
      "****\n",
      "***\n",
      "**\n",
      "*\n"
     ]
    }
   ],
   "source": [
    "#Question no: 7\n",
    "for i in range(0,6):\n",
    "    for j in range(0,i):\n",
    "        print('*',end='')\n",
    "    print('',end='\\n')\n",
    "for i in range(4,0,-1):\n",
    "    for j in range(0,i):\n",
    "        print('*',end='')\n",
    "    print('',end='\\n')"
   ]
  },
  {
   "cell_type": "code",
   "execution_count": 8,
   "id": "9ce2e247",
   "metadata": {},
   "outputs": [
    {
     "name": "stdout",
     "output_type": "stream",
     "text": [
      "[20, 60, 30]\n"
     ]
    }
   ],
   "source": [
    "#Question no 9\n",
    "list1=[10, 20, 60, 30, 20, 40, 30, 60, 70, 80]\n",
    "x=[]\n",
    "y=[]\n",
    "for i in list1:\n",
    "    if i not in x:\n",
    "        x.append(i)\n",
    "for i in x:\n",
    "    if list1.count(i) > 1:\n",
    "        y.append(i)\n",
    "print(y)"
   ]
  },
  {
   "cell_type": "code",
   "execution_count": 9,
   "id": "a064f442",
   "metadata": {},
   "outputs": [],
   "source": [
    "#Question no 12\n",
    "list1 = [5, [10, 15, [20, 25, [30, 35], 40], 45], 50]\n",
    "list1[1][2][2][1]=3500"
   ]
  },
  {
   "cell_type": "code",
   "execution_count": 10,
   "id": "e2e63559",
   "metadata": {},
   "outputs": [
    {
     "data": {
      "text/plain": [
       "[5, [10, 15, [20, 25, [30, 3500], 40], 45], 50]"
      ]
     },
     "execution_count": 10,
     "metadata": {},
     "output_type": "execute_result"
    }
   ],
   "source": [
    "list1"
   ]
  },
  {
   "cell_type": "code",
   "execution_count": 11,
   "id": "09fd086d",
   "metadata": {},
   "outputs": [
    {
     "name": "stdout",
     "output_type": "stream",
     "text": [
      "Enter String: abdh127fhabb%$^\n",
      "a\n",
      "b\n",
      "d\n",
      "h\n",
      "f\n",
      "h\n",
      "a\n",
      "b\n",
      "b\n"
     ]
    }
   ],
   "source": [
    "#Quesion no 13\n",
    "string=input(\"Enter String: \")\n",
    "l=len(string)\n",
    "c=0\n",
    "while c<l:\n",
    "    if string[c].isalpha():\n",
    "        print(string[c])\n",
    "    c+=1"
   ]
  },
  {
   "cell_type": "code",
   "execution_count": 12,
   "id": "bccf560c",
   "metadata": {},
   "outputs": [
    {
     "name": "stdout",
     "output_type": "stream",
     "text": [
      "Enter Celsius: 30\n",
      "Fahrenheit:  86.0\n",
      "Enter Fahrenheit: 86\n",
      "Celsius:  30.0\n"
     ]
    }
   ],
   "source": [
    "#Question no 15\n",
    "celsius = int(input(\"Enter Celsius: \"))\n",
    "fahrenheit = (celsius * 1.8) + 32\n",
    "print(\"Fahrenheit: \",fahrenheit)\n",
    "fahrenheit = int(input(\"Enter Fahrenheit: \"))\n",
    "celsius = (fahrenheit - 32)/1.8\n",
    "print(\"Celsius: \",celsius)"
   ]
  },
  {
   "cell_type": "code",
   "execution_count": null,
   "id": "4aabd379",
   "metadata": {},
   "outputs": [],
   "source": []
  }
 ],
 "metadata": {
  "kernelspec": {
   "display_name": "Python 3 (ipykernel)",
   "language": "python",
   "name": "python3"
  },
  "language_info": {
   "codemirror_mode": {
    "name": "ipython",
    "version": 3
   },
   "file_extension": ".py",
   "mimetype": "text/x-python",
   "name": "python",
   "nbconvert_exporter": "python",
   "pygments_lexer": "ipython3",
   "version": "3.9.13"
  }
 },
 "nbformat": 4,
 "nbformat_minor": 5
}
